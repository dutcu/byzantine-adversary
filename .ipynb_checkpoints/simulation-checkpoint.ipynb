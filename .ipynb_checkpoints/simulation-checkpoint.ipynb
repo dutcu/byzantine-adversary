{
 "cells": [
  {
   "cell_type": "code",
   "execution_count": null,
   "id": "a74fbedc",
   "metadata": {},
   "outputs": [],
   "source": [
    "\"\"\"\n",
    "# Simulation: Multiple Rounds or Configurations\n",
    "You can extend this notebook to test different settings, faults, or repeated trials.\n",
    "\"\"\"\n",
    "\n",
    "from q_byzantine.agreement import Process, agreement\n",
    "from q_byzantine.globals import processes, threads, n\n",
    "from q_byzantine.broadcast import broadcasted_messages, first_to_decide\n",
    "from protocol_tests import test_all\n",
    "import threading\n",
    "import random\n",
    "\n",
    "processes.clear()\n",
    "threads.clear()\n",
    "broadcasted_messages.clear()\n",
    "\n",
    "TRIALS = 5\n",
    "\n",
    "for trial in range(TRIALS):\n",
    "    print(f\"\\n--- Trial {trial + 1} ---\")\n",
    "    processes.clear()\n",
    "    threads.clear()\n",
    "    for i in range(n):\n",
    "        pr = Process(i, str(random.choice([0, 1])))\n",
    "        processes.append(pr)\n",
    "        thr = threading.Thread(target=agreement, args=(pr,))\n",
    "        threads.append(thr)\n",
    "\n",
    "    for thr in threads:\n",
    "        thr.start()\n",
    "    for thr in threads:\n",
    "        thr.join()\n",
    "\n",
    "    for pr in processes:\n",
    "        print(f\"process({pr.id}) = {pr.output} @epoch: {pr.decision_epoch} | input: {pr.input_val} | faulty: {pr.faulty}\")\n",
    "    test_all(processes, first_to_decide, broadcasted_messages)\n"
   ]
  }
 ],
 "metadata": {
  "kernelspec": {
   "display_name": "Python 3",
   "language": "python",
   "name": "python3"
  },
  "language_info": {
   "name": "python",
   "version": "3.13.4"
  }
 },
 "nbformat": 4,
 "nbformat_minor": 5
}
