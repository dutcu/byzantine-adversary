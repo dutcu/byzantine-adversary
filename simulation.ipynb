{
 "cells": [
  {
   "cell_type": "code",
   "execution_count": null,
   "id": "a74fbedc",
   "metadata": {},
   "outputs": [
    {
     "name": "stdout",
     "output_type": "stream",
     "text": [
      "\n",
      "--- Trial 1 ---\n"
     ]
    }
   ],
   "source": [
    "from q_byzantine.agreement import Process, agreement\n",
    "from q_byzantine.broadcast import broadcasted_messages, first_to_decide\n",
    "from q_byzantine import shared_state as state\n",
    "from q_byzantine import broadcast\n",
    "from protocol_tests import test_all\n",
    "from q_byzantine.globals import n\n",
    "\n",
    "import statistics\n",
    "import threading\n",
    "import random\n",
    "import time\n",
    "\n",
    "TRIALS = 5\n",
    "timings = []\n",
    "avg_epochs = []\n",
    "\n",
    "for trial in range(TRIALS):\n",
    "    print(f\"\\n--- Trial {trial + 1} ---\")\n",
    "\n",
    "    state.processes.clear()\n",
    "    state.threads.clear()\n",
    "    broadcasted_messages.clear()\n",
    "\n",
    "    for i in range(n):\n",
    "        pr = Process(i, str(random.choice([0, 1])))\n",
    "        state.processes.append(pr)\n",
    "        thr = threading.Thread(target=agreement, args=(pr,))\n",
    "        state.threads.append(thr)\n",
    "\n",
    "    start = time.time()\n",
    "\n",
    "    for thr in state.threads:\n",
    "        thr.start()\n",
    "    for thr in state.threads:\n",
    "        thr.join()\n",
    "\n",
    "    duration = time.time() - start\n",
    "    timings.append(duration)\n",
    "\n",
    "    # Log decisions and epochs\n",
    "    for pr in state.processes:\n",
    "        print(f\"process({pr.id}) = {pr.output} @epoch: {pr.decision_epoch} | input: {pr.input_val} | faulty: {pr.faulty}\")\n",
    "\n",
    "    first = broadcast.first_to_decide\n",
    "    if first:\n",
    "        print(f\"[First to decide] Process({first}) decided at epoch {pr.decision_epoch}\")\n",
    "    \n",
    "    epochs = [pr.decision_epoch for pr in state.processes if pr.decision_epoch is not None]\n",
    "    avg_epoch = sum(epochs) / len(epochs) if epochs else None\n",
    "    avg_epochs.append(avg_epoch)\n",
    "\n",
    "    test_all(state.processes, broadcast.first_to_decide, broadcast.broadcasted_messages)\n",
    "\n",
    "# Final averages\n",
    "overall_avg_time = statistics.mean(timings)\n",
    "overall_std_time = statistics.stdev(timings) if len(timings) > 1 else 0.0\n",
    "overall_avg_epoch = statistics.mean(avg_epochs)\n",
    "overall_std_epoch = statistics.stdev(avg_epochs) if len(avg_epochs) > 1 else 0.0\n",
    "\n",
    "print(f\"\\n--- Summary over {TRIALS} trials ---\")\n",
    "print(f\"Average time per trial: {overall_avg_time:.2f}s ± {overall_std_time:.2f}s\")\n",
    "print(f\"Average decision epoch: {overall_avg_epoch:.2f} ± {overall_std_epoch:.2f}\")\n"
   ]
  }
 ],
 "metadata": {
  "kernelspec": {
   "display_name": "qenv",
   "language": "python",
   "name": "python3"
  },
  "language_info": {
   "codemirror_mode": {
    "name": "ipython",
    "version": 3
   },
   "file_extension": ".py",
   "mimetype": "text/x-python",
   "name": "python",
   "nbconvert_exporter": "python",
   "pygments_lexer": "ipython3",
   "version": "3.12.3"
  }
 },
 "nbformat": 4,
 "nbformat_minor": 5
}
