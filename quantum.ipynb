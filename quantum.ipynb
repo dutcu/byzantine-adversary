{
 "cells": [
  {
   "cell_type": "code",
   "execution_count": 1,
   "id": "ee60db10",
   "metadata": {},
   "outputs": [],
   "source": [
    "try:\n",
    "\tfrom q_byzantine import broadcast\n",
    "\tfrom q_byzantine import shared_state as state\n",
    "\tfrom q_byzantine.agreement import Process, agreement\n",
    "\tfrom q_byzantine.globals import *\n",
    "except ModuleNotFoundError:\n",
    "\timport sys\n",
    "\timport os\n",
    "\tif os.path.isdir('q_byzantine'):\n",
    "\t\tsys.path.append(os.getcwd())\n",
    "\telse:\n",
    "\t\ttry:\n",
    "\t\t\tfrom IPython import get_ipython\n",
    "\t\t\tget_ipython().run_line_magic('pip', 'install q_byzantine')\n",
    "\t\texcept Exception:\n",
    "\t\t\tpass\n",
    "\n",
    "from protocol_tests import test_all\n",
    "import threading\n",
    "import random\n"
   ]
  },
  {
   "cell_type": "code",
   "execution_count": null,
   "id": "e21dbda7",
   "metadata": {},
   "outputs": [
    {
     "name": "stdout",
     "output_type": "stream",
     "text": [
      "[P0] E1 | current=1, decided=False\n",
      "[P1] E1 | current=0, decided=False\n",
      "[P2] E1 | current=1, decided=False\n",
      "[P3] E1 | current=0, decided=False\n",
      "[P4] E1 | current=1, decided=False\n",
      "[P5] E1 | current=1, decided=False\n",
      "[P6] E1 | current=0, decided=False\n",
      "[P7] E1 | current=1, decided=False\n",
      "[P8] E1 | current=1, decided=False\n",
      "[P9] E1 | current=0, decided=False\n",
      "someone finally decided time to snatch the locky\n",
      "got the lock buddy \n",
      " [P5] decided in epoch 1 with value 1\n",
      "[P5] is the first to decide\n",
      "someone finally decided time to snatch the locky\n",
      "got the lock buddy \n",
      " [P4] decided in epoch 1 with value 1\n",
      "someone finally decided time to snatch the locky\n",
      "got the lock buddy \n",
      " [P0] decided in epoch 1 with value 1\n",
      "someone finally decided time to snatch the locky\n",
      "got the lock buddy \n",
      " [P9] decided in epoch 1 with value 1\n",
      "[P9] E2 | current=1, decided=True\n",
      "someone finally decided time to snatch the locky\n",
      "got the lock buddy \n",
      " [P6] decided in epoch 1 with value 1\n",
      "[P6] E2 | current=1, decided=True\n",
      "someone finally decided time to snatch the locky\n",
      "got the lock buddy \n",
      " [P7] decided in epoch 1 with value 1\n",
      "[P7] E2 | current=1, decided=True\n",
      "someone finally decided time to snatch the locky\n",
      "got the lock buddy \n",
      " [P3] decided in epoch 1 with value 1\n",
      "[P3] E2 | current=1, decided=True\n",
      "someone finally decided time to snatch the locky\n",
      "got the lock buddy \n",
      " [P8] decided in epoch 1 with value 1\n",
      "[P8] E2 | current=1, decided=True\n",
      "someone finally decided time to snatch the locky\n",
      "got the lock buddy \n",
      " [P1] decided in epoch 1 with value 1\n",
      "[P1] E2 | current=1, decided=True\n",
      "someone finally decided time to snatch the locky\n",
      "got the lock buddy \n",
      " [P2] decided in epoch 1 with value 1\n",
      "[P2] E2 | current=1, decided=True\n"
     ]
    }
   ],
   "source": [
    "# Initialize and start threads\n",
    "for i in range(n):\n",
    "    pr = Process(i, str(random.choice([0, 1])))\n",
    "    state.processes.append(pr)\n",
    "    thr = threading.Thread(target=agreement, args=(pr,))\n",
    "    state.threads.append(thr)\n",
    "\n",
    "for thr in state.threads:\n",
    "    thr.start()\n",
    "\n",
    "for thr in state.threads:\n",
    "    thr.join()\n",
    "\n",
    "for p in state.processes:\n",
    "    print(f\"Process {p.id}: output={p.output}, epoch={p.decision_epoch}, faulty={p.faulty}\")\n",
    "\n",
    "\n",
    "# Display results\n",
    "print(\"*******   SOLUTION:   *******\")\n",
    "for pr in state.processes:\n",
    "    print(f\"process({pr.id}) = {pr.output} @epoch: {pr.decision_epoch} | input: {pr.input_val} | faulty: {pr.faulty}\")"
   ]
  },
  {
   "cell_type": "code",
   "execution_count": null,
   "id": "3210d13b",
   "metadata": {},
   "outputs": [],
   "source": [
    "test_all(state.processes, broadcast.first_to_decide, broadcast.broadcasted_messages)"
   ]
  }
 ],
 "metadata": {
  "kernelspec": {
   "display_name": "Python 3 (ipykernel)",
   "language": "python",
   "name": "python3"
  },
  "language_info": {
   "codemirror_mode": {
    "name": "ipython",
    "version": 3
   },
   "file_extension": ".py",
   "mimetype": "text/x-python",
   "name": "python",
   "nbconvert_exporter": "python",
   "pygments_lexer": "ipython3",
   "version": "3.12.3"
  }
 },
 "nbformat": 4,
 "nbformat_minor": 5
}
