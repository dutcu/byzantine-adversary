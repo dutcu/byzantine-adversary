{
 "cells": [
  {
   "cell_type": "code",
   "execution_count": 1,
   "id": "ee60db10",
   "metadata": {},
   "outputs": [
    {
     "ename": "ImportError",
     "evalue": "cannot import name 'adversary' from 'q_byzantine.adversary' (C:\\Users\\drutt\\Byzantine\\q_byzantine\\adversary.py)",
     "output_type": "error",
     "traceback": [
      "\u001b[31m---------------------------------------------------------------------------\u001b[39m",
      "\u001b[31mImportError\u001b[39m                               Traceback (most recent call last)",
      "\u001b[36mCell\u001b[39m\u001b[36m \u001b[39m\u001b[32mIn[1]\u001b[39m\u001b[32m, line 2\u001b[39m\n\u001b[32m      1\u001b[39m \u001b[38;5;28;01mtry\u001b[39;00m:\n\u001b[32m----> \u001b[39m\u001b[32m2\u001b[39m \t\u001b[38;5;28;01mfrom\u001b[39;00m\u001b[38;5;250m \u001b[39m\u001b[34;01mq_byzantine\u001b[39;00m\u001b[34;01m.\u001b[39;00m\u001b[34;01magreement\u001b[39;00m\u001b[38;5;250m \u001b[39m\u001b[38;5;28;01mimport\u001b[39;00m Process, agreement\n\u001b[32m      3\u001b[39m \t\u001b[38;5;28;01mfrom\u001b[39;00m\u001b[38;5;250m \u001b[39m\u001b[34;01mq_byzantine\u001b[39;00m\u001b[34;01m.\u001b[39;00m\u001b[34;01mglobals\u001b[39;00m\u001b[38;5;250m \u001b[39m\u001b[38;5;28;01mimport\u001b[39;00m processes, threads, n\n\u001b[32m      4\u001b[39m \t\u001b[38;5;28;01mfrom\u001b[39;00m\u001b[38;5;250m \u001b[39m\u001b[34;01mq_byzantine\u001b[39;00m\u001b[34;01m.\u001b[39;00m\u001b[34;01mbroadcast\u001b[39;00m\u001b[38;5;250m \u001b[39m\u001b[38;5;28;01mimport\u001b[39;00m broadcasted_messages, first_to_decide\n",
      "\u001b[36mFile \u001b[39m\u001b[32m~\\Byzantine\\q_byzantine\\agreement.py:7\u001b[39m\n\u001b[32m      5\u001b[39m \u001b[38;5;28;01mfrom\u001b[39;00m\u001b[38;5;250m \u001b[39m\u001b[34;01m.\u001b[39;00m\u001b[34;01mbroadcast\u001b[39;00m\u001b[38;5;250m \u001b[39m\u001b[38;5;28;01mimport\u001b[39;00m broadcast, broadcasted_messages, broadcasting_lock, decision_lock, first_to_decide\n\u001b[32m      6\u001b[39m \u001b[38;5;28;01mfrom\u001b[39;00m\u001b[38;5;250m \u001b[39m\u001b[34;01m.\u001b[39;00m\u001b[34;01mglobals\u001b[39;00m\u001b[38;5;250m \u001b[39m\u001b[38;5;28;01mimport\u001b[39;00m n, MAX_ALIVE_PROCESSES, processes, QUESTION_MARK, WAITING_MESSAGE, qb_per_process\n\u001b[32m----> \u001b[39m\u001b[32m7\u001b[39m \u001b[38;5;28;01mfrom\u001b[39;00m\u001b[38;5;250m \u001b[39m\u001b[34;01m.\u001b[39;00m\u001b[34;01mweak_coin\u001b[39;00m\u001b[38;5;250m \u001b[39m\u001b[38;5;28;01mimport\u001b[39;00m quantum_coin_flip\n\u001b[32m      9\u001b[39m HALF_PLUS_ONE = \u001b[38;5;28mint\u001b[39m(np.floor(n / \u001b[32m2\u001b[39m)) + \u001b[32m1\u001b[39m\n\u001b[32m     11\u001b[39m \u001b[38;5;28;01mclass\u001b[39;00m\u001b[38;5;250m \u001b[39m\u001b[34;01mProcess\u001b[39;00m:\n",
      "\u001b[36mFile \u001b[39m\u001b[32m~\\Byzantine\\q_byzantine\\weak_coin.py:8\u001b[39m\n\u001b[32m      6\u001b[39m \u001b[38;5;28;01mimport\u001b[39;00m\u001b[38;5;250m \u001b[39m\u001b[34;01mthreading\u001b[39;00m\n\u001b[32m      7\u001b[39m \u001b[38;5;28;01mfrom\u001b[39;00m\u001b[38;5;250m \u001b[39m\u001b[34;01m.\u001b[39;00m\u001b[34;01mglobals\u001b[39;00m\u001b[38;5;250m \u001b[39m\u001b[38;5;28;01mimport\u001b[39;00m *\n\u001b[32m----> \u001b[39m\u001b[32m8\u001b[39m \u001b[38;5;28;01mfrom\u001b[39;00m\u001b[38;5;250m \u001b[39m\u001b[34;01m.\u001b[39;00m\u001b[34;01madversary\u001b[39;00m\u001b[38;5;250m \u001b[39m\u001b[38;5;28;01mimport\u001b[39;00m adversary \u001b[38;5;28;01mas\u001b[39;00m ADV\n\u001b[32m     10\u001b[39m \u001b[38;5;28;01mclass\u001b[39;00m\u001b[38;5;250m \u001b[39m\u001b[34;01mQuantumFactory\u001b[39;00m:\n\u001b[32m     11\u001b[39m     \u001b[38;5;28;01mdef\u001b[39;00m\u001b[38;5;250m \u001b[39m\u001b[34m__init__\u001b[39m(\u001b[38;5;28mself\u001b[39m):\n",
      "\u001b[31mImportError\u001b[39m: cannot import name 'adversary' from 'q_byzantine.adversary' (C:\\Users\\drutt\\Byzantine\\q_byzantine\\adversary.py)"
     ]
    }
   ],
   "source": [
    "try:\n",
    "\tfrom q_byzantine.agreement import Process, agreement\n",
    "\tfrom q_byzantine.globals import processes, threads, n\n",
    "\tfrom q_byzantine.broadcast import broadcasted_messages, first_to_decide\n",
    "except ModuleNotFoundError:\n",
    "\timport sys\n",
    "\timport os\n",
    "\tif os.path.isdir('q_byzantine'):\n",
    "\t\tsys.path.append(os.getcwd())\n",
    "\telse:\n",
    "\t\ttry:\n",
    "\t\t\tfrom IPython import get_ipython\n",
    "\t\t\tget_ipython().run_line_magic('pip', 'install q_byzantine')\n",
    "\t\texcept Exception:\n",
    "\t\t\tpass\n",
    "\tfrom q_byzantine.agreement import Process, agreement\n",
    "\tfrom q_byzantine.globals import processes, threads, n\n",
    "\tfrom q_byzantine.broadcast import broadcasted_messages, first_to_decide\n",
    "\n",
    "from protocol_tests import test_all\n",
    "import threading\n",
    "import random\n"
   ]
  },
  {
   "cell_type": "code",
   "execution_count": null,
   "id": "e21dbda7",
   "metadata": {},
   "outputs": [],
   "source": [
    "# Initialize and start threads\n",
    "for i in range(n):\n",
    "    pr = Process(i, str(random.choice([0, 1])))\n",
    "    processes.append(pr)\n",
    "    thr = threading.Thread(target=agreement, args=(pr,))\n",
    "    threads.append(thr)\n",
    "\n",
    "for thr in threads:\n",
    "    thr.start()\n",
    "\n",
    "for thr in threads:\n",
    "    thr.join()\n",
    "\n",
    "\n",
    "# Display results\n",
    "print(\"*******   SOLUTION:   *******\")\n",
    "for pr in processes:\n",
    "    print(f\"process({pr.id}) = {pr.output} @epoch: {pr.decision_epoch} | input: {pr.input_val} | faulty: {pr.faulty}\")"
   ]
  },
  {
   "cell_type": "code",
   "execution_count": null,
   "id": "3210d13b",
   "metadata": {},
   "outputs": [],
   "source": [
    "test_all(processes, first_to_decide, broadcasted_messages)"
   ]
  }
 ],
 "metadata": {
  "kernelspec": {
   "display_name": "Python 3 (ipykernel)",
   "language": "python",
   "name": "python3"
  },
  "language_info": {
   "codemirror_mode": {
    "name": "ipython",
    "version": 3
   },
   "file_extension": ".py",
   "mimetype": "text/x-python",
   "name": "python",
   "nbconvert_exporter": "python",
   "pygments_lexer": "ipython3",
   "version": "3.13.4"
  }
 },
 "nbformat": 4,
 "nbformat_minor": 5
}
