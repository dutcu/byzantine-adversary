{
 "cells": [
  {
   "cell_type": "code",
   "execution_count": 1,
   "id": "ee60db10",
   "metadata": {},
   "outputs": [],
   "source": [
    "try:\n",
    "\tfrom q_byzantine import broadcast\n",
    "\tfrom q_byzantine import shared_state as state\n",
    "\tfrom q_byzantine.agreement import Process, agreement\n",
    "\tfrom q_byzantine.globals import *\n",
    "except ModuleNotFoundError:\n",
    "\timport sys\n",
    "\timport os\n",
    "\tif os.path.isdir('q_byzantine'):\n",
    "\t\tsys.path.append(os.getcwd())\n",
    "\telse:\n",
    "\t\ttry:\n",
    "\t\t\tfrom IPython import get_ipython\n",
    "\t\t\tget_ipython().run_line_magic('pip', 'install q_byzantine')\n",
    "\t\texcept Exception:\n",
    "\t\t\tpass\n",
    "\n",
    "from protocol_tests import test_all\n",
    "import threading\n",
    "import random\n"
   ]
  },
  {
   "cell_type": "code",
   "execution_count": 2,
   "id": "e21dbda7",
   "metadata": {},
   "outputs": [
    {
     "name": "stdout",
     "output_type": "stream",
     "text": [
      "[P0] E1 | current=1, decided=False\n",
      "[P1] E1 | current=1, decided=False\n",
      "someone finally decided time to snatch the locky\n"
     ]
    },
    {
     "name": "stderr",
     "output_type": "stream",
     "text": [
      "Exception in thread Thread-4 (agreement):\n",
      "Traceback (most recent call last):\n",
      "Exception in thread Thread-3 (agreement):\n",
      "  File \u001b[35m\"C:\\Users\\drutt\\AppData\\Local\\Programs\\Python\\Python313\\Lib\\threading.py\"\u001b[0m, line \u001b[35m1043\u001b[0m, in \u001b[35m_bootstrap_inner\u001b[0m\n",
      "    \u001b[31mself.run\u001b[0m\u001b[1;31m()\u001b[0m\n",
      "    \u001b[31m~~~~~~~~\u001b[0m\u001b[1;31m^^\u001b[0m\n",
      "  File \u001b[35m\"C:\\Users\\drutt\\AppData\\Local\\Programs\\Python\\Python313\\Lib\\site-packages\\ipykernel\\ipkernel.py\"\u001b[0m, line \u001b[35m766\u001b[0m, in \u001b[35mrun_closure\u001b[0m\n",
      "    \u001b[31m_threading_Thread_run\u001b[0m\u001b[1;31m(self)\u001b[0m\n",
      "    \u001b[31m~~~~~~~~~~~~~~~~~~~~~\u001b[0m\u001b[1;31m^^^^^^\u001b[0m\n",
      "  File \u001b[35m\"C:\\Users\\drutt\\AppData\\Local\\Programs\\Python\\Python313\\Lib\\threading.py\"\u001b[0m, line \u001b[35m994\u001b[0m, in \u001b[35mrun\u001b[0m\n",
      "    \u001b[31mself._target\u001b[0m\u001b[1;31m(*self._args, **self._kwargs)\u001b[0m\n",
      "    \u001b[31m~~~~~~~~~~~~\u001b[0m\u001b[1;31m^^^^^^^^^^^^^^^^^^^^^^^^^^^^^\u001b[0m\n",
      "  File \u001b[35m\"C:\\Users\\drutt\\Byzantine\\q_byzantine\\agreement.py\"\u001b[0m, line \u001b[35m121\u001b[0m, in \u001b[35magreement\u001b[0m\n",
      "    with \u001b[1;31mshared.decision_lock\u001b[0m:\n",
      "         \u001b[1;31m^^^^^^^^^^^^^^^^^^^^\u001b[0m\n",
      "\u001b[1;35mAttributeError\u001b[0m: \u001b[35mmodule 'q_byzantine.shared_state' has no attribute 'decision_lock'\u001b[0m\n",
      "Traceback (most recent call last):\n",
      "  File \u001b[35m\"C:\\Users\\drutt\\AppData\\Local\\Programs\\Python\\Python313\\Lib\\threading.py\"\u001b[0m, line \u001b[35m1043\u001b[0m, in \u001b[35m_bootstrap_inner\u001b[0m\n",
      "    \u001b[31mself.run\u001b[0m\u001b[1;31m()\u001b[0m\n",
      "    \u001b[31m~~~~~~~~\u001b[0m\u001b[1;31m^^\u001b[0m\n",
      "  File \u001b[35m\"C:\\Users\\drutt\\AppData\\Local\\Programs\\Python\\Python313\\Lib\\site-packages\\ipykernel\\ipkernel.py\"\u001b[0m, line \u001b[35m766\u001b[0m, in \u001b[35mrun_closure\u001b[0m\n",
      "    \u001b[31m_threading_Thread_run\u001b[0m\u001b[1;31m(self)\u001b[0m\n",
      "    \u001b[31m~~~~~~~~~~~~~~~~~~~~~\u001b[0m\u001b[1;31m^^^^^^\u001b[0m\n",
      "  File \u001b[35m\"C:\\Users\\drutt\\AppData\\Local\\Programs\\Python\\Python313\\Lib\\threading.py\"\u001b[0m, line \u001b[35m994\u001b[0m, in \u001b[35mrun\u001b[0m\n",
      "    \u001b[31mself._target\u001b[0m\u001b[1;31m(*self._args, **self._kwargs)\u001b[0m\n",
      "    \u001b[31m~~~~~~~~~~~~\u001b[0m\u001b[1;31m^^^^^^^^^^^^^^^^^^^^^^^^^^^^^\u001b[0m\n",
      "  File \u001b[35m\"C:\\Users\\drutt\\Byzantine\\q_byzantine\\agreement.py\"\u001b[0m, line \u001b[35m121\u001b[0m, in \u001b[35magreement\u001b[0m\n",
      "    with \u001b[1;31mshared.decision_lock\u001b[0m:\n",
      "         \u001b[1;31m^^^^^^^^^^^^^^^^^^^^\u001b[0m\n",
      "\u001b[1;35mAttributeError\u001b[0m: \u001b[35mmodule 'q_byzantine.shared_state' has no attribute 'decision_lock'\u001b[0m\n"
     ]
    },
    {
     "name": "stdout",
     "output_type": "stream",
     "text": [
      "someone finally decided time to snatch the locky\n",
      "Process 0: output=None, epoch=1, faulty=False\n",
      "Process 1: output=None, epoch=1, faulty=False\n",
      "*******   SOLUTION:   *******\n",
      "process(0) = None @epoch: 1 | input: 1 | faulty: False\n",
      "process(1) = None @epoch: 1 | input: 1 | faulty: False\n"
     ]
    }
   ],
   "source": [
    "# Initialize and start threads\n",
    "for i in range(n):\n",
    "    pr = Process(i, str(random.choice([0, 1])))\n",
    "    state.processes.append(pr)\n",
    "    thr = threading.Thread(target=agreement, args=(pr,))\n",
    "    state.threads.append(thr)\n",
    "\n",
    "for thr in state.threads:\n",
    "    thr.start()\n",
    "\n",
    "for thr in state.threads:\n",
    "    thr.join()\n",
    "\n",
    "for p in state.processes:\n",
    "    print(f\"Process {p.id}: output={p.output}, epoch={p.decision_epoch}, faulty={p.faulty}\")\n",
    "\n",
    "\n",
    "# Display results\n",
    "print(\"*******   SOLUTION:   *******\")\n",
    "for pr in state.processes:\n",
    "    print(f\"process({pr.id}) = {pr.output} @epoch: {pr.decision_epoch} | input: {pr.input_val} | faulty: {pr.faulty}\")"
   ]
  },
  {
   "cell_type": "code",
   "execution_count": 3,
   "id": "3210d13b",
   "metadata": {},
   "outputs": [
    {
     "name": "stdout",
     "output_type": "stream",
     "text": [
      "first_to_decide = None\n",
      "first_to_decide:  None\n",
      "in da loop yo \n",
      " pr.id:  0  decision_epoch:  1  output:  None\n",
      "in da loop yo \n",
      " pr.id:  1  decision_epoch:  1  output:  None\n",
      "pr.id:  0  decision_epoch:  1  output:  None  first_decision_epoch:  None\n"
     ]
    },
    {
     "ename": "TypeError",
     "evalue": "unsupported operand type(s) for +: 'NoneType' and 'int'",
     "output_type": "error",
     "traceback": [
      "\u001b[31m---------------------------------------------------------------------------\u001b[39m",
      "\u001b[31mTypeError\u001b[39m                                 Traceback (most recent call last)",
      "\u001b[36mCell\u001b[39m\u001b[36m \u001b[39m\u001b[32mIn[3]\u001b[39m\u001b[32m, line 2\u001b[39m\n\u001b[32m      1\u001b[39m \u001b[38;5;28mprint\u001b[39m(\u001b[33m\"\u001b[39m\u001b[33mfirst_to_decide =\u001b[39m\u001b[33m\"\u001b[39m, broadcast.first_to_decide)\n\u001b[32m----> \u001b[39m\u001b[32m2\u001b[39m \u001b[43mtest_all\u001b[49m\u001b[43m(\u001b[49m\u001b[43mstate\u001b[49m\u001b[43m.\u001b[49m\u001b[43mprocesses\u001b[49m\u001b[43m,\u001b[49m\u001b[43m \u001b[49m\u001b[43mbroadcast\u001b[49m\u001b[43m.\u001b[49m\u001b[43mfirst_to_decide\u001b[49m\u001b[43m,\u001b[49m\u001b[43m \u001b[49m\u001b[43mbroadcast\u001b[49m\u001b[43m.\u001b[49m\u001b[43mbroadcasted_messages\u001b[49m\u001b[43m)\u001b[49m\n",
      "\u001b[36mFile \u001b[39m\u001b[32m~\\Byzantine\\protocol_tests.py:73\u001b[39m, in \u001b[36mtest_all\u001b[39m\u001b[34m(processes, first_to_decide, broadcasted_messages)\u001b[39m\n\u001b[32m     71\u001b[39m \u001b[38;5;28;01mdef\u001b[39;00m\u001b[38;5;250m \u001b[39m\u001b[34mtest_all\u001b[39m(processes, first_to_decide, broadcasted_messages):\n\u001b[32m     72\u001b[39m     lemma_9 = test_lemma_9(processes, broadcasted_messages)\n\u001b[32m---> \u001b[39m\u001b[32m73\u001b[39m     agreement = \u001b[43mtest_agreement\u001b[49m\u001b[43m(\u001b[49m\u001b[43mprocesses\u001b[49m\u001b[43m,\u001b[49m\u001b[43m \u001b[49m\u001b[43mfirst_to_decide\u001b[49m\u001b[43m)\u001b[49m\n\u001b[32m     74\u001b[39m     termination = test_termination(processes)\n\u001b[32m     75\u001b[39m     validity = test_validity(processes)\n",
      "\u001b[36mFile \u001b[39m\u001b[32m~\\Byzantine\\protocol_tests.py:59\u001b[39m, in \u001b[36mtest_agreement\u001b[39m\u001b[34m(processes, first_to_decide)\u001b[39m\n\u001b[32m     57\u001b[39m         \u001b[38;5;28;01mcontinue\u001b[39;00m\n\u001b[32m     58\u001b[39m     \u001b[38;5;28mprint\u001b[39m(\u001b[33m\"\u001b[39m\u001b[33mpr.id: \u001b[39m\u001b[33m\"\u001b[39m, pr.id, \u001b[33m\"\u001b[39m\u001b[33m decision_epoch: \u001b[39m\u001b[33m\"\u001b[39m, pr.decision_epoch, \u001b[33m\"\u001b[39m\u001b[33m output: \u001b[39m\u001b[33m\"\u001b[39m, pr.output, \u001b[33m\"\u001b[39m\u001b[33m first_decision_epoch: \u001b[39m\u001b[33m\"\u001b[39m, first_decision_epoch)\n\u001b[32m---> \u001b[39m\u001b[32m59\u001b[39m     \u001b[38;5;28;01mif\u001b[39;00m (pr.decision_epoch != first_decision_epoch \u001b[38;5;129;01mand\u001b[39;00m pr.decision_epoch !=  \u001b[43mfirst_decision_epoch\u001b[49m\u001b[43m+\u001b[49m\u001b[32;43m1\u001b[39;49m) \u001b[38;5;129;01mor\u001b[39;00m pr.output != first_value:\n\u001b[32m     60\u001b[39m         \u001b[38;5;28;01mreturn\u001b[39;00m \u001b[38;5;28;01mFalse\u001b[39;00m\n\u001b[32m     61\u001b[39m \u001b[38;5;28;01massert\u001b[39;00m(first_decision_epoch \u001b[38;5;129;01mis\u001b[39;00m \u001b[38;5;129;01mnot\u001b[39;00m \u001b[38;5;28;01mNone\u001b[39;00m)\n",
      "\u001b[31mTypeError\u001b[39m: unsupported operand type(s) for +: 'NoneType' and 'int'"
     ]
    }
   ],
   "source": [
    "print(\"first_to_decide =\", broadcast.first_to_decide)\n",
    "test_all(state.processes, broadcast.first_to_decide, broadcast.broadcasted_messages)"
   ]
  }
 ],
 "metadata": {
  "kernelspec": {
   "display_name": "Python 3 (ipykernel)",
   "language": "python",
   "name": "python3"
  },
  "language_info": {
   "codemirror_mode": {
    "name": "ipython",
    "version": 3
   },
   "file_extension": ".py",
   "mimetype": "text/x-python",
   "name": "python",
   "nbconvert_exporter": "python",
   "pygments_lexer": "ipython3",
   "version": "3.13.4"
  }
 },
 "nbformat": 4,
 "nbformat_minor": 5
}
